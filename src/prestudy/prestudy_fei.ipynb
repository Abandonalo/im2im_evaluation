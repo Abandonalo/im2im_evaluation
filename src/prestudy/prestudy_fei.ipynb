{
 "cells": [
  {
   "cell_type": "markdown",
   "id": "ab54d3cb-1c1c-4285-8f92-66f2658f72ee",
   "metadata": {},
   "source": [
    "# Pre-study: Manual Generation of Conversion Code\n",
    "\n",
    "\n",
    "In this study, you will be presented with 30 tasks within Google Colab, divided into five sets to cover a range of complexities. Each set will contain 6 tasks.\n",
    "\n",
    "Before you begin, please ensure you enable GPU hardware acceleration to optimize your performance. This can be done by navigating to \"Edit\" > \"Notebook settings\" and selecting \"GPU\" as the hardware accelerator.\n",
    "\n",
    "Upon completing the tasks, you are encouraged to run the provided unit tests. These tests will help you assess the accuracy of your solutions and provide detailed feedback on any tasks that have failed.\n",
    "\n",
    "To conclude your participation, please download the Jupyter notebook by going to the \"File\" menu and selecting \"Download\". This will allow you to save a copy of your work and any notes you may have made during the study."
   ]
  },
  {
   "cell_type": "code",
   "execution_count": null,
   "id": "f207357d-3845-426a-9cc4-c562c6a6c734",
   "metadata": {},
   "outputs": [],
   "source": [
    "import sys\n",
    "import os\n",
    "\n",
    "\n",
    "if 'google.colab' in sys.modules:\n",
    "  repo_url = 'https://github.com/c3di/ImgDataConvertCodeGen_Evaluation.git'\n",
    "  !git clone {repo_url}\n",
    "  repo_dir = repo_url.split('/')[-1].split('.git')[0]\n",
    "  os.chdir(repo_dir)"
   ]
  },
  {
   "cell_type": "code",
   "execution_count": 25,
   "id": "a4eaa5fc-5d07-4adc-aa35-306c3028a62b",
   "metadata": {},
   "outputs": [],
   "source": [
    "import numpy as np\n",
    "import torch\n",
    "import tensorflow as tf\n",
    "from PIL import Image\n",
    "from torchvision.transforms import functional as F\n",
    "from src.test_util import test_conversion_functions"
   ]
  },
  {
   "cell_type": "markdown",
   "id": "df395cd3-3c99-4664-b307-e401cc21d242",
   "metadata": {},
   "source": [
    "## One Step Covertion"
   ]
  },
  {
   "cell_type": "code",
   "execution_count": 3,
   "id": "e7b52536-1b45-4f8c-aca8-394cee120c04",
   "metadata": {},
   "outputs": [],
   "source": [
    "# When use scikit-image and opencv-image\n",
    "def numpy_rgb_to_opencv_bgr(image):\n",
    "    return image[::-1, :, :]"
   ]
  },
  {
   "cell_type": "code",
   "execution_count": 4,
   "id": "64c02c90-5d39-4b2f-8f8e-b3a7ef8e06b5",
   "metadata": {},
   "outputs": [],
   "source": [
    "# When use scikit-image\n",
    "def numpy_channel_first_to_last(image):\n",
    "    return np.transpose(image, (1, 2, 0))"
   ]
  },
  {
   "cell_type": "code",
   "execution_count": 5,
   "id": "dcb9b199-051b-4abf-a66d-0a3a45ff15fc",
   "metadata": {},
   "outputs": [],
   "source": [
    "def tf_batched_to_unbatched(image):\n",
    "    return tf.squeeze(image, 0)"
   ]
  },
  {
   "cell_type": "code",
   "execution_count": 6,
   "id": "6c032cf8-db4e-41b4-ab36-7a6cd1e8b64f",
   "metadata": {},
   "outputs": [],
   "source": [
    "def torch_uint8_to_float0to1(image):\n",
    "    return image / 255.0"
   ]
  },
  {
   "cell_type": "code",
   "execution_count": 7,
   "id": "a4a8ee12-8a8a-400b-89b2-95ddc4663cb3",
   "metadata": {},
   "outputs": [],
   "source": [
    "def torch_gpu_to_cpu(image):\n",
    "    return image.cpu()"
   ]
  },
  {
   "cell_type": "code",
   "execution_count": 8,
   "id": "b1084369",
   "metadata": {},
   "outputs": [],
   "source": [
    "def pil_to_tf(image):\n",
    "    return tf.convert_to_tensor(image)"
   ]
  },
  {
   "cell_type": "code",
   "execution_count": 9,
   "id": "02713a43-a84d-4c35-815e-974d7b973f4d",
   "metadata": {},
   "outputs": [
    {
     "name": "stdout",
     "output_type": "stream",
     "text": [
      "\n",
      "Passed/Total: 6/6\n"
     ]
    }
   ],
   "source": [
    "# run tests\n",
    "tests_config = [\n",
    "    ({\"data_representation\": \"numpy.ndarray\", \"color_channel\": 'rgb', \"channel_order\": 'channel first',\n",
    "      \"minibatch_input\": False, \"image_data_type\": 'uint8', \"device\": 'cpu'},\n",
    "     {\"data_representation\": \"numpy.ndarray\", \"color_channel\": 'bgr', \"channel_order\": 'channel first',\n",
    "      \"minibatch_input\": False, \"image_data_type\": 'uint8', \"device\": 'cpu'}, \n",
    "     numpy_rgb_to_opencv_bgr),\n",
    "\n",
    "    ({\"data_representation\": \"numpy.ndarray\", \"color_channel\": 'rgb', \"channel_order\": 'channel first',\n",
    "      \"minibatch_input\": False, \"image_data_type\": 'uint8', \"device\": 'cpu'},\n",
    "     {\"data_representation\": \"numpy.ndarray\", \"color_channel\": 'rgb', \"channel_order\": 'channel last',\n",
    "      \"minibatch_input\": False, \"image_data_type\": 'uint8', \"device\": 'cpu'},\n",
    "     numpy_channel_first_to_last),\n",
    "\n",
    "    ({\"data_representation\": \"tf.tensor\", \"color_channel\": 'rgb', \"channel_order\": 'channel last',\n",
    "      \"minibatch_input\": True, \"image_data_type\": 'uint8', \"device\": 'cpu'},\n",
    "     {\"data_representation\": \"tf.tensor\", \"color_channel\": 'rgb', \"channel_order\": 'channel last',\n",
    "      \"minibatch_input\": False, \"image_data_type\": 'uint8', \"device\": 'cpu'},\n",
    "     tf_batched_to_unbatched),\n",
    "\n",
    "    ({\"data_representation\": \"torch.tensor\", \"color_channel\": 'rgb', \"channel_order\": 'channel first',\n",
    "      \"minibatch_input\": False, \"image_data_type\": 'uint8', \"device\": 'cpu'},\n",
    "     {\"data_representation\": \"torch.tensor\", \"color_channel\": 'rgb', \"channel_order\": 'channel first',\n",
    "      \"minibatch_input\": False, \"image_data_type\": 'float32(0to1)', \"device\": 'cpu'},\n",
    "     torch_uint8_to_float0to1),\n",
    "\n",
    "    ({\"data_representation\": \"torch.tensor\", \"color_channel\": 'rgb', \"channel_order\": 'channel first',\n",
    "      \"minibatch_input\": False, \"image_data_type\": 'uint8', \"device\": 'gpu'},\n",
    "     {\"data_representation\": \"torch.tensor\", \"color_channel\": 'rgb', \"channel_order\": 'channel first',\n",
    "      \"minibatch_input\": False, \"image_data_type\": 'uint8', \"device\": 'cpu'},\n",
    "     torch_gpu_to_cpu),\n",
    "\n",
    "    ({\"data_representation\": \"PIL.Image\", \"color_channel\": 'rgb', \"channel_order\": 'channel last',\n",
    "      \"minibatch_input\": False, \"image_data_type\": 'uint8', \"device\": 'cpu'},\n",
    "     {\"data_representation\": \"tf.tensor\", \"color_channel\": 'rgb', \"channel_order\": 'channel last',\n",
    "      \"minibatch_input\": False, \"image_data_type\": 'uint8', \"device\": 'cpu'},\n",
    "     pil_to_tf)]\n",
    "\n",
    "test_conversion_functions(tests_config)"
   ]
  },
  {
   "cell_type": "markdown",
   "id": "48cea3c9-3812-41d8-b669-1f6f6fa63042",
   "metadata": {},
   "source": [
    "## Two Steps Convertion"
   ]
  },
  {
   "cell_type": "code",
   "execution_count": 10,
   "id": "34870da5-c179-48e4-94b4-ea38ef02cc36",
   "metadata": {},
   "outputs": [],
   "source": [
    "def numpy_float0to1_to_uint8(image):\n",
    "    return (image * 255).astype(np.uint8)"
   ]
  },
  {
   "cell_type": "code",
   "execution_count": 11,
   "id": "058555c6-1abc-470e-be0f-7453b9ce53b3",
   "metadata": {},
   "outputs": [],
   "source": [
    "def tf_rgb_to_gray_nonchannel(image):\n",
    "    return tf.squeeze(tf.image.rgb_to_grayscale(image), -1)"
   ]
  },
  {
   "cell_type": "code",
   "execution_count": 12,
   "id": "6a1a0f84-6ef7-4514-9867-2d624bb2967d",
   "metadata": {},
   "outputs": [],
   "source": [
    "def tf_gray_nonechannel_float32_to_channellast_float64(image):\n",
    "    return tf.expand_dims(tf.image.convert_image_dtype(image, tf.float64), -1)"
   ]
  },
  {
   "cell_type": "code",
   "execution_count": 13,
   "id": "8c5f6e7f-3a24-47db-a0e1-77db844f175b",
   "metadata": {},
   "outputs": [],
   "source": [
    "def torch_channelfirst_unbatched_to_channlelast_batched(image):\n",
    "    return image.permute(1, 2, 0).unsqueeze(0)"
   ]
  },
  {
   "cell_type": "code",
   "execution_count": 14,
   "id": "e2d67c09-309b-4f12-a916-91a3625bd145",
   "metadata": {},
   "outputs": [],
   "source": [
    "def torch_rgb_from_batched_cpu_to_unbatched_gpu(image):\n",
    "    return image.squeeze(0).cuda()"
   ]
  },
  {
   "cell_type": "code",
   "execution_count": 15,
   "id": "f632aee0-8ccb-46ce-b692-2018ebba9612",
   "metadata": {},
   "outputs": [],
   "source": [
    "def numpy_gray_with_channal_last_to_pil_rgb(image):\n",
    "    return Image.fromarray(np.repeat(image, 3, axis=2))"
   ]
  },
  {
   "cell_type": "code",
   "execution_count": 16,
   "id": "1dc64b88-e507-43e8-8353-3fb3671952ce",
   "metadata": {},
   "outputs": [
    {
     "name": "stdout",
     "output_type": "stream",
     "text": [
      "\n",
      "Passed/Total: 6/6\n"
     ]
    }
   ],
   "source": [
    "# run tests\n",
    "tests_config = [\n",
    "    ({\"data_representation\": \"numpy.ndarray\", \"color_channel\": 'rgb', \"channel_order\": 'channel first',\n",
    "      \"minibatch_input\": False, \"image_data_type\": 'float32(0to1)', \"device\": 'cpu'},\n",
    "     {\"data_representation\": \"numpy.ndarray\", \"color_channel\": 'rgb', \"channel_order\": 'channel first',\n",
    "      \"minibatch_input\": False, \"image_data_type\": 'uint8', \"device\": 'cpu'},\n",
    "     numpy_float0to1_to_uint8),\n",
    "\n",
    "    ({\"data_representation\": \"tf.tensor\", \"color_channel\": 'rgb', \"channel_order\": 'channel last',\n",
    "      \"minibatch_input\": False, \"image_data_type\": 'uint8', \"device\": 'cpu'},\n",
    "     {\"data_representation\": \"tf.tensor\", \"color_channel\": 'gray', \"channel_order\": 'none',\n",
    "      \"minibatch_input\": False, \"image_data_type\": 'uint8', \"device\": 'cpu'},\n",
    "     tf_rgb_to_gray_nonchannel),\n",
    "\n",
    "    ({\"data_representation\": \"tf.tensor\", \"color_channel\": 'gray', \"channel_order\": 'none',\n",
    "      \"minibatch_input\": False, \"image_data_type\": 'float32(0to1)', \"device\": 'cpu'},\n",
    "     {\"data_representation\": \"tf.tensor\", \"color_channel\": 'gray', \"channel_order\": 'channel last',\n",
    "      \"minibatch_input\": False, \"image_data_type\": 'float64(0to1)', \"device\": 'cpu'},\n",
    "     tf_gray_nonechannel_float32_to_channellast_float64),\n",
    "\n",
    "    ({\"data_representation\": \"tf.tensor\", \"color_channel\": 'gray', \"channel_order\": 'none',\n",
    "      \"minibatch_input\": False, \"image_data_type\": 'float32(0to1)', \"device\": 'cpu'},\n",
    "     {\"data_representation\": \"tf.tensor\", \"color_channel\": 'gray', \"channel_order\": 'channel last',\n",
    "      \"minibatch_input\": False, \"image_data_type\": 'float64(0to1)', \"device\": 'cpu'},\n",
    "     tf_gray_nonechannel_float32_to_channellast_float64),\n",
    "\n",
    "    ({\"data_representation\": \"torch.tensor\", \"color_channel\": 'rgb', \"channel_order\": 'channel first',\n",
    "      \"minibatch_input\": True, \"image_data_type\": 'float32(0to1)', \"device\": 'cpu'},\n",
    "     {\"data_representation\": \"torch.tensor\", \"color_channel\": 'rgb', \"channel_order\": 'channel first',\n",
    "      \"minibatch_input\": False, \"image_data_type\": 'float32(0to1)', \"device\": 'gpu'},\n",
    "     torch_rgb_from_batched_cpu_to_unbatched_gpu),\n",
    "\n",
    "    ({\"data_representation\": \"numpy.ndarray\", \"color_channel\": 'gray', \"channel_order\": 'channel last',\n",
    "      \"minibatch_input\": False, \"image_data_type\": 'uint8', \"device\": 'cpu'},\n",
    "     {\"data_representation\": \"PIL.Image\", \"color_channel\": 'rgb', \"channel_order\": 'channel last',\n",
    "      \"minibatch_input\": False, \"image_data_type\": 'uint8', \"device\": 'cpu'},\n",
    "     numpy_gray_with_channal_last_to_pil_rgb),\n",
    "]\n",
    "\n",
    "test_conversion_functions(tests_config)"
   ]
  },
  {
   "cell_type": "markdown",
   "id": "1ad862e2-c129-4b1b-8846-aff7c8de0156",
   "metadata": {},
   "source": [
    "## Three Steps Conversion"
   ]
  },
  {
   "cell_type": "code",
   "execution_count": 17,
   "id": "9f637eab-2c1e-4c6c-a880-4d3b86cc0c80",
   "metadata": {},
   "outputs": [],
   "source": [
    "# When use opencv-python and scikit-image\n",
    "def numpy_bgr_uint8_to_rgb_float(image):\n",
    "    return (image[::-1,:,:] * 255).astype(np.uint8)"
   ]
  },
  {
   "cell_type": "code",
   "execution_count": 18,
   "id": "ad6d7483-44c1-4d23-8f96-ba70f9e17900",
   "metadata": {},
   "outputs": [],
   "source": [
    "def numpy_with_channelfirst_float_from_rgb_unbatched_to_gray_batched(image):\n",
    "    weight = np.array([0.299, 0.587, 0.114]).reshape(3, 1, 1)\n",
    "    converted = np.sum(image * weight, axis=0, keepdims=True)\n",
    "    return converted[np.newaxis, ...]"
   ]
  },
  {
   "cell_type": "code",
   "execution_count": 19,
   "id": "551dfc9c-349a-4bfc-bb0f-71a4e8bf0d29",
   "metadata": {},
   "outputs": [],
   "source": [
    "def tf_rgb_channelfirst_batched_to_gray_channellast_unbatched(image):\n",
    "    converted = tf.squeeze(image, 0)\n",
    "    converted = tf.transpose(converted, [1, 2, 0])\n",
    "    return tf.image.rgb_to_grayscale(converted)"
   ]
  },
  {
   "cell_type": "code",
   "execution_count": 20,
   "id": "ff02f2fc-1ffd-45d7-9cb6-26c05b649789",
   "metadata": {},
   "outputs": [],
   "source": [
    "def tf_gray_uint8_nonechannel_to_rgb_float320to1_channellast(image):\n",
    "    converted = tf.image.convert_image_dtype(image, tf.float32)\n",
    "    converted = tf.expand_dims(converted, -1)\n",
    "    return tf.image.grayscale_to_rgb(converted)"
   ]
  },
  {
   "cell_type": "code",
   "execution_count": 21,
   "id": "31d11f21-4145-4f7e-ae80-a60c29d55305",
   "metadata": {},
   "outputs": [],
   "source": [
    "def torch_channelfirst_float32_to_channellast_uint8(image):\n",
    "    converted = (image * 255).to(torch.uint8)\n",
    "    return converted.permute(1, 2, 0)"
   ]
  },
  {
   "cell_type": "code",
   "execution_count": 22,
   "id": "e7df31e8-05d3-4739-9bb7-534bfdeb05ee",
   "metadata": {},
   "outputs": [],
   "source": [
    "def torch_rgb_gpu_to_numpy_gray_cpu(image):\n",
    "    converted = F.rgb_to_grayscale(image.cpu())\n",
    "    return converted.numpy(force=True)"
   ]
  },
  {
   "cell_type": "code",
   "execution_count": 23,
   "id": "9c4fb975-9e2a-407e-a348-85a25f654f1f",
   "metadata": {},
   "outputs": [
    {
     "name": "stdout",
     "output_type": "stream",
     "text": [
      "\n",
      "Passed/Total: 6/6\n"
     ]
    }
   ],
   "source": [
    "# run tests\n",
    "tests_config = [\n",
    "    ({\"data_representation\": \"numpy.ndarray\", \"color_channel\": 'bgr', \"channel_order\": 'channel first',\n",
    "      \"minibatch_input\": False, \"image_data_type\": 'float32(0to1)', \"device\": 'cpu'},\n",
    "     {\"data_representation\": \"numpy.ndarray\", \"color_channel\": 'rgb', \"channel_order\": 'channel first',\n",
    "      \"minibatch_input\": False, \"image_data_type\": 'uint8', \"device\": 'cpu'},\n",
    "     numpy_bgr_uint8_to_rgb_float),\n",
    "\n",
    "    ({\"data_representation\": \"numpy.ndarray\", \"color_channel\": 'rgb', \"channel_order\": 'channel first',\n",
    "      \"minibatch_input\": False, \"image_data_type\": 'float32(0to1)', \"device\": 'cpu'},\n",
    "     {\"data_representation\": \"numpy.ndarray\", \"color_channel\": 'gray', \"channel_order\": 'channel first',\n",
    "      \"minibatch_input\": True, \"image_data_type\": 'float32(0to1)', \"device\": 'cpu'},\n",
    "     numpy_with_channelfirst_float_from_rgb_unbatched_to_gray_batched),\n",
    "\n",
    "    ({\"data_representation\": \"tf.tensor\", \"color_channel\": 'rgb', \"channel_order\": 'channel first',\n",
    "      \"minibatch_input\": True, \"image_data_type\": 'uint8', \"device\": 'cpu'},\n",
    "     {\"data_representation\": \"tf.tensor\", \"color_channel\": 'gray', \"channel_order\": 'channel last',\n",
    "      \"minibatch_input\": False, \"image_data_type\": 'uint8', \"device\": 'cpu'},\n",
    "     tf_rgb_channelfirst_batched_to_gray_channellast_unbatched),\n",
    "\n",
    "    ({\"data_representation\": \"tf.tensor\", \"color_channel\": 'gray', \"channel_order\": 'none',\n",
    "      \"minibatch_input\": False, \"image_data_type\": 'uint8', \"device\": 'cpu'},\n",
    "     {\"data_representation\": \"tf.tensor\", \"color_channel\": 'rgb', \"channel_order\": 'channel last',\n",
    "      \"minibatch_input\": False, \"image_data_type\": 'float32(0to1)', \"device\": 'cpu'}, \n",
    "     tf_gray_uint8_nonechannel_to_rgb_float320to1_channellast),\n",
    "\n",
    "    ({\"data_representation\": \"torch.tensor\", \"color_channel\": 'rgb', \"channel_order\": 'channel first',\n",
    "      \"minibatch_input\": False, \"image_data_type\": 'float32(0to1)', \"device\": 'cpu'},\n",
    "     {\"data_representation\": \"torch.tensor\", \"color_channel\": 'rgb', \"channel_order\": 'channel last',\n",
    "      \"minibatch_input\": False, \"image_data_type\": 'uint8', \"device\": 'cpu'},\n",
    "     torch_channelfirst_float32_to_channellast_uint8),\n",
    "\n",
    "    ({\"data_representation\": \"torch.tensor\", \"color_channel\": 'rgb', \"channel_order\": 'channel first',\n",
    "      \"minibatch_input\": False, \"image_data_type\": 'uint8', \"device\": 'gpu'},\n",
    "     {\"data_representation\": \"numpy.ndarray\", \"color_channel\": 'gray', \"channel_order\": 'channel first',\n",
    "      \"minibatch_input\": False, \"image_data_type\": 'uint8', \"device\": 'cpu'},\n",
    "     torch_rgb_gpu_to_numpy_gray_cpu),\n",
    "]\n",
    "\n",
    "test_conversion_functions(tests_config)"
   ]
  },
  {
   "cell_type": "markdown",
   "id": "84e51ea0-18e9-48f2-baf3-8281de916e41",
   "metadata": {},
   "source": [
    "## Four Steps Conversion"
   ]
  },
  {
   "cell_type": "code",
   "execution_count": 44,
   "id": "efba748c-2c87-4640-8b1f-6a69f3d7f499",
   "metadata": {},
   "outputs": [],
   "source": [
    "def numpy_gray_nonechannel_unbatched_uint8_to_rgb_channelfirst_batched_float0to1(image):\n",
    "    converted = np.expand_dims(image, axis=0)\n",
    "    converted = np.repeat(converted, 3, axis=0)\n",
    "    converted = converted[np.newaxis, ...]\n",
    "    return converted / 255.0    "
   ]
  },
  {
   "cell_type": "code",
   "execution_count": 45,
   "id": "6f19e234-9f9a-456a-9bea-7fa7fa499f91",
   "metadata": {},
   "outputs": [],
   "source": [
    "def numpy_rgb_channelfirst_batched_float0to1_to_rgb_channellast_unbatched_uint8(image):\n",
    "    converted = image.squeeze(0)\n",
    "    converted = converted * 255\n",
    "    converted = converted.astype(np.uint8)\n",
    "    return converted.transpose(1, 2, 0)"
   ]
  },
  {
   "cell_type": "code",
   "execution_count": 87,
   "id": "47cccd42-907a-4ad7-b06b-ed285b3f6327",
   "metadata": {},
   "outputs": [],
   "source": [
    "def tf_rgb_uint8_unbatched_channellast_to_gray_float320to1_batched_nonechannel(image):\n",
    "    converted = tf.image.rgb_to_grayscale(image)\n",
    "    converted = tf.image.convert_image_dtype(converted, tf.float32)\n",
    "    converted = tf.squeeze(converted, -1)\n",
    "    return tf.expand_dims(converted, 0)"
   ]
  },
  {
   "cell_type": "code",
   "execution_count": 74,
   "id": "b4a45d76-862b-4107-932b-b4ea2d8a10d7",
   "metadata": {},
   "outputs": [],
   "source": [
    "def tf_gray_float32_channellast_batched_to_rgb_chanelfirst_unit8_unbatched(image):\n",
    "    converted = tf.squeeze(image, 0)\n",
    "    converted = tf.image.grayscale_to_rgb(converted)\n",
    "    converted = tf.transpose(converted, [2, 0, 1])\n",
    "    return tf.image.convert_image_dtype(converted, tf.uint8)"
   ]
  },
  {
   "cell_type": "code",
   "execution_count": 81,
   "id": "e757508c-8d34-46af-be19-dcd3021290b6",
   "metadata": {},
   "outputs": [],
   "source": [
    "def torch_rgb_uint8_batched_channelfirst_gpu_to_float_unbatched_channellast_cpu(image):\n",
    "    converted = image.cpu()\n",
    "    converted = converted / 255.0\n",
    "    converted = converted.squeeze(0)\n",
    "    return converted.permute(1, 2, 0)"
   ]
  },
  {
   "cell_type": "code",
   "execution_count": 179,
   "id": "70d65b97-761b-4247-a2cd-014af47fd8b9",
   "metadata": {},
   "outputs": [],
   "source": [
    "# Will fixed by image data generator\n",
    "def torch_rgb_channelfirst_batched_float_to_tf_gray_batched_channellast_float(image):\n",
    "    converted = image.permute(0, 2, 3, 1)\n",
    "    converted = converted.numpy()\n",
    "    converted = tf.convert_to_tensor(converted)\n",
    "    return tf.image.rgb_to_grayscale(converted)"
   ]
  },
  {
   "cell_type": "code",
   "execution_count": 161,
   "id": "2162d646-3d2b-4d1e-b597-481630a8404e",
   "metadata": {},
   "outputs": [
    {
     "name": "stdout",
     "output_type": "stream",
     "text": [
      "\n",
      "Passed/Total: 5/5\n"
     ]
    }
   ],
   "source": [
    "# run tests\n",
    "tests_config = [\n",
    "    ({\"data_representation\": \"numpy.ndarray\", \"color_channel\": 'gray', \"channel_order\": 'none',\n",
    "      \"minibatch_input\": False, \"image_data_type\": 'uint8', \"device\": 'cpu'},\n",
    "     {\"data_representation\": \"numpy.ndarray\", \"color_channel\": 'rgb', \"channel_order\": 'channel first',\n",
    "      \"minibatch_input\": True, \"image_data_type\": 'float32(0to1)', \"device\": 'cpu'},\n",
    "     numpy_gray_nonechannel_unbatched_uint8_to_rgb_channelfirst_batched_float0to1),\n",
    "\n",
    "    ({\"data_representation\": \"numpy.ndarray\", \"color_channel\": 'rgb', \"channel_order\": 'channel first',\n",
    "      \"minibatch_input\": True, \"image_data_type\": 'float32(0to1)', \"device\": 'cpu'},\n",
    "     {\"data_representation\": \"numpy.ndarray\", \"color_channel\": 'rgb', \"channel_order\": 'channel last',\n",
    "      \"minibatch_input\": False, \"image_data_type\": 'uint8', \"device\": 'cpu'},\n",
    "     numpy_rgb_channelfirst_batched_float0to1_to_rgb_channellast_unbatched_uint8),\n",
    "\n",
    "    ({\"data_representation\": \"tf.tensor\", \"color_channel\": 'rgb', \"channel_order\": 'channel last',\n",
    "      \"minibatch_input\": False, \"image_data_type\": 'uint8', \"device\": 'cpu'},\n",
    "     {\"data_representation\": \"tf.tensor\", \"color_channel\": 'gray', \"channel_order\": 'none',\n",
    "      \"minibatch_input\": True, \"image_data_type\": 'float32(0to1)', \"device\": 'cpu'},\n",
    "     tf_rgb_uint8_unbatched_channellast_to_gray_float320to1_batched_nonechannel),\n",
    "\n",
    "    ({\"data_representation\": \"tf.tensor\", \"color_channel\": 'gray', \"channel_order\": 'channel last',\n",
    "      \"minibatch_input\": True, \"image_data_type\": 'float32(0to1)', \"device\": 'cpu'},\n",
    "     {\"data_representation\": \"tf.tensor\", \"color_channel\": 'rgb', \"channel_order\": 'channel first',\n",
    "      \"minibatch_input\": False, \"image_data_type\": 'uint8', \"device\": 'cpu'}, \n",
    "     tf_gray_float32_channellast_batched_to_rgb_chanelfirst_unit8_unbatched),\n",
    "\n",
    "    ({\"data_representation\": \"torch.tensor\", \"color_channel\": 'rgb', \"channel_order\": 'channel first',\n",
    "      \"minibatch_input\": True, \"image_data_type\": 'uint8', \"device\": 'gpu'},\n",
    "     {\"data_representation\": \"torch.tensor\", \"color_channel\": 'rgb', \"channel_order\": 'channel last',\n",
    "      \"minibatch_input\": False, \"image_data_type\": 'float32(0to1)', \"device\": 'cpu'},\n",
    "     torch_rgb_uint8_batched_channelfirst_gpu_to_float_unbatched_channellast_cpu),\n",
    "    \n",
    "    # ({\"data_representation\": \"torch.tensor\", \"color_channel\": 'rgb', \"channel_order\": 'channel first',\n",
    "    #   \"minibatch_input\": True, \"image_data_type\": 'float32(0to1)', \"device\": 'cpu'},\n",
    "    #  {\"data_representation\": \"tf.tensor\", \"color_channel\": 'gray', \"channel_order\": 'channel last',\n",
    "    #   \"minibatch_input\": True, \"image_data_type\": 'float32(0to1)', \"device\": 'cpu'},\n",
    "    #  torch_rgb_channelfirst_batched_float_to_tf_gray_batched_channellast_float),\n",
    "]\n",
    "\n",
    "test_conversion_functions(tests_config)"
   ]
  },
  {
   "cell_type": "markdown",
   "id": "d10c37d6-95eb-423c-8bc3-249b02df4c23",
   "metadata": {},
   "source": [
    "## More Steps Conversion"
   ]
  },
  {
   "cell_type": "code",
   "execution_count": 104,
   "id": "81b729db-a322-4283-bdd2-232552be5319",
   "metadata": {},
   "outputs": [],
   "source": [
    "def numpy_bgr_channelfirst_unbatched_uint8_to_tf_rgb_channellast_batched_float0to1(image):\n",
    "    converted = image[::-1, :, :]\n",
    "    converted = converted.transpose(1, 2, 0)\n",
    "    converted = np.expand_dims(converted, axis=0)\n",
    "    converted = converted / 255.0 # np.float64\n",
    "    return tf.convert_to_tensor(converted, dtype=tf.float32)"
   ]
  },
  {
   "cell_type": "code",
   "execution_count": 107,
   "id": "380fac4a-00e3-4aeb-b386-68ac55a743af",
   "metadata": {},
   "outputs": [],
   "source": [
    "def numpy_rgb_channelfirst_batched_float0to1_to_PIL_rgb_channellast_unbatched_uint8(image):\n",
    "    converted = image.squeeze(0)\n",
    "    converted = converted * 255\n",
    "    converted = converted.astype(np.uint8)\n",
    "    converted = converted.transpose(1, 2, 0)\n",
    "    return Image.fromarray(converted)"
   ]
  },
  {
   "cell_type": "code",
   "execution_count": 175,
   "id": "6f775e87-93c2-405e-b6a8-cd6245afc764",
   "metadata": {},
   "outputs": [],
   "source": [
    "# Will fixed by image data generator\n",
    "def PIL_gray_nonechannel_unit8_to_tf_rgb_float32_channellast_batched(image):\n",
    "    converted = tf.convert_to_tensor(image)\n",
    "    converted = tf.image.convert_image_dtype(converted, tf.float32)\n",
    "    converted = tf.expand_dims(converted, -1)\n",
    "    converted = tf.expand_dims(converted, 0)\n",
    "    return tf.image.grayscale_to_rgb(converted)"
   ]
  },
  {
   "cell_type": "code",
   "execution_count": 164,
   "id": "a0ff0c34-6ec7-4c65-9ede-6e3155f27f60",
   "metadata": {},
   "outputs": [],
   "source": [
    "# Will test tensorflow GPU\n",
    "def tf_gray_channellast_batced_gpu_to_torch_rgb_channelfirst_batched_cpu(image):\n",
    "    with tf.device('/cpu:0'):\n",
    "        converted = tf.identity(image)\n",
    "    converted = converted.numpy()\n",
    "    converted = np.repeat(converted, 3, axis=-1)\n",
    "    converted = np.transpose(tf_image_rgb, (0, 3, 1, 2))\n",
    "    return torch.from_numpy()"
   ]
  },
  {
   "cell_type": "code",
   "execution_count": 165,
   "id": "dfb95231-f13c-4073-9e8b-f2b4d4522a2f",
   "metadata": {},
   "outputs": [],
   "source": [
    "# Will fix order of converted = converted / 255.0 converted = F.rgb_to_grayscale(converted)\n",
    "def torch_rgb_uint8_batched_gpu_to_numpy_gray_float_batched_nonechannel_cpu(image):\n",
    "    converted = image.cpu()\n",
    "    converted = F.rgb_to_grayscale(converted)\n",
    "    converted = converted / 255.0\n",
    "    converted = converted.squeeze(1)\n",
    "    return converted.numpy(force=True)"
   ]
  },
  {
   "cell_type": "code",
   "execution_count": 172,
   "id": "13163986-6017-4c0b-9ce6-00f4c2d94ee1",
   "metadata": {},
   "outputs": [],
   "source": [
    "# Will fixed by image data generator\n",
    "def torch_channelfirst_gray_float32_batched_gpu_to_tf_gray_channellast_uint8_nonnchannel_gpu(image):\n",
    "    converted = image.cpu()\n",
    "    converted = (converted * 255).to(torch.uint8)\n",
    "    converted = converted.permute(0, 2, 3, 1)\n",
    "    converted = converted.numpy()\n",
    "    converted = tf.convert_to_tensor(numpy_image)\n",
    "    converted = tf.squeeze(converted, -1)\n",
    "    with tf.device('/gpu:0'):\n",
    "        return tf.identity(var)"
   ]
  },
  {
   "cell_type": "code",
   "execution_count": 176,
   "id": "3465cd8d-110d-46fe-93a7-472126e9daa4",
   "metadata": {},
   "outputs": [
    {
     "name": "stdout",
     "output_type": "stream",
     "text": [
      "\n",
      "Passed/Total: 3/3\n"
     ]
    }
   ],
   "source": [
    "# run tests\n",
    "tests_config = [\n",
    "    ({\"data_representation\": \"numpy.ndarray\", \"color_channel\": 'bgr', \"channel_order\": 'channel first',\n",
    "      \"minibatch_input\": False, \"image_data_type\": 'uint8', \"device\": 'cpu'},\n",
    "     {\"data_representation\": \"tf.tensor\", \"color_channel\": 'rgb', \"channel_order\": 'channel last',\n",
    "      \"minibatch_input\": True, \"image_data_type\": 'float32(0to1)', \"device\": 'cpu'},\n",
    "     numpy_bgr_channelfirst_unbatched_uint8_to_tf_rgb_channellast_batched_float0to1),\n",
    "\n",
    "    ({\"data_representation\": \"numpy.ndarray\", \"color_channel\": 'rgb', \"channel_order\": 'channel first',\n",
    "      \"minibatch_input\": True, \"image_data_type\": 'float32(0to1)', \"device\": 'cpu'},\n",
    "     {\"data_representation\": \"PIL.Image\", \"color_channel\": 'rgb', \"channel_order\": 'channel last',\n",
    "      \"minibatch_input\": False, \"image_data_type\": 'uint8', \"device\": 'cpu'},\n",
    "     numpy_rgb_channelfirst_batched_float0to1_to_PIL_rgb_channellast_unbatched_uint8),\n",
    "\n",
    "    # ({\"data_representation\": \"PIL.Image\", \"color_channel\": 'gray', \"channel_order\": 'none',\n",
    "    #   \"minibatch_input\": False, \"image_data_type\": 'uint8', \"device\": 'cpu'},\n",
    "    #  {\"data_representation\": \"tf.tensor\", \"color_channel\": 'rgb', \"channel_order\": 'channel last',\n",
    "    #   \"minibatch_input\": True, \"image_data_type\": 'float32(0to1)', \"device\": 'cpu'},\n",
    "    #  PIL_gray_nonechannel_unit8_to_tf_rgb_float32_channellast_batched),\n",
    "\n",
    "    # ({\"data_representation\": \"tf.tensor\", \"color_channel\": 'gray', \"channel_order\": 'channel last',\n",
    "    #   \"minibatch_input\": True, \"image_data_type\": 'float32(0to1)', \"device\": 'gpu'},\n",
    "    #  {\"data_representation\": \"tf.tensor\", \"color_channel\": 'rgb', \"channel_order\": 'channel first',\n",
    "    #   \"minibatch_input\": True, \"image_data_type\": 'float32(0to1)', \"device\": 'cpu'},\n",
    "    #  tf_gray_channellast_batced_gpu_to_torch_rgb_channelfirst_batched_cpu),\n",
    "    \n",
    "    ({\"data_representation\": \"torch.tensor\", \"color_channel\": 'rgb', \"channel_order\": 'channel first',\n",
    "      \"minibatch_input\": True, \"image_data_type\": 'uint8', \"device\": 'gpu'},\n",
    "     {\"data_representation\": \"numpy.ndarray\", \"color_channel\": 'gray', \"channel_order\": 'none',\n",
    "      \"minibatch_input\": True, \"image_data_type\": 'float32(0to1)', \"device\": 'cpu'},\n",
    "     torch_rgb_uint8_batched_gpu_to_numpy_gray_float_batched_nonechannel_cpu),\n",
    "\n",
    "    # ({\"data_representation\": \"torch.tensor\", \"color_channel\": 'gray', \"channel_order\": 'channel first',\n",
    "    #   \"minibatch_input\": True, \"image_data_type\": 'float32(0to1)', \"device\": 'gpu'},\n",
    "    #  {\"data_representation\": \"tf.tensor\", \"color_channel\": 'gray', \"channel_order\": 'channel last',\n",
    "    #   \"minibatch_input\": True, \"image_data_type\": 'uint8', \"device\": 'cpu'},\n",
    "    #  torch_channelfirst_gray_float32_batched_gpu_to_tf_gray_channellast_uint8_nonnchannel_gpu),\n",
    "]\n",
    "\n",
    "test_conversion_functions(tests_config)"
   ]
  }
 ],
 "metadata": {
  "kernelspec": {
   "display_name": "Python 3 (ipykernel)",
   "language": "python",
   "name": "python3"
  },
  "language_info": {
   "codemirror_mode": {
    "name": "ipython",
    "version": 3
   },
   "file_extension": ".py",
   "mimetype": "text/x-python",
   "name": "python",
   "nbconvert_exporter": "python",
   "pygments_lexer": "ipython3",
   "version": "3.12.0"
  }
 },
 "nbformat": 4,
 "nbformat_minor": 5
}
